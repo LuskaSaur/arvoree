{
 "cells": [
  {
   "cell_type": "markdown",
   "metadata": {},
   "source": [
    "#### PLP (09/10/2019)"
   ]
  },
  {
   "cell_type": "code",
   "execution_count": 1,
   "metadata": {},
   "outputs": [],
   "source": [
    "mesa = [(6,6),\n",
    "        [(6,5),(5,2)],\n",
    "        [(6,1),(1,1),(1,5)],\n",
    "        [],\n",
    "        [(6,4),(4,2)]]\n",
    "\n",
    "mesa2  = [(6,6),\n",
    "          [],\n",
    "          [],\n",
    "          [],\n",
    "          [(6,4)]]\n",
    "\n",
    "mesa3 = [(6,6),\n",
    "         [],\n",
    "         [],\n",
    "         [],\n",
    "         [(6,3)]]"
   ]
  },
  {
   "cell_type": "markdown",
   "metadata": {},
   "source": [
    "##### Exercícios\n",
    "\n",
    "\n",
    "Defina as funções:\n",
    "\n",
    "1. norte(cfg), sul(cfg), leste(cfg), oeste(cfg) que retornam os braços norte, sul, leste, oeste da mesa ctg.\n",
    "2. centro(cfg) que retornam o centro da mesa.\n",
    "3. ponta(braco) que retorna a pedra na ponta do braço braco.\n",
    "4. pontas(ctg) que retorna as pedras em todas as pontas da configuração cfg."
   ]
  },
  {
   "cell_type": "code",
   "execution_count": 2,
   "metadata": {},
   "outputs": [],
   "source": [
    "centro = lambda cfg: cfg[0]\n",
    "norte = lambda cfg: cfg[1]\n",
    "leste = lambda cfg: cfg[2]\n",
    "sul = lambda cfg: cfg[3]\n",
    "oeste = lambda cfg: cfg[4]"
   ]
  },
  {
   "cell_type": "code",
   "execution_count": 3,
   "metadata": {},
   "outputs": [
    {
     "data": {
      "text/plain": [
       "((6, 6), [(6, 5), (5, 2)], [(6, 1), (1, 1), (1, 5)], [], [(6, 4), (4, 2)])"
      ]
     },
     "execution_count": 3,
     "metadata": {},
     "output_type": "execute_result"
    }
   ],
   "source": [
    "centro(mesa), norte(mesa), leste(mesa), sul(mesa), oeste(mesa)"
   ]
  },
  {
   "cell_type": "code",
   "execution_count": 9,
   "metadata": {},
   "outputs": [],
   "source": [
    "ponta = lambda braco: None if not braco else braco[-1] #ficar atento questao a esse None pq é necessario lembrar que caso nao tenha braço eu nao vou retornar nada"
   ]
  },
  {
   "cell_type": "code",
   "execution_count": 10,
   "metadata": {},
   "outputs": [],
   "source": [
    "ponta(sul(mesa))"
   ]
  },
  {
   "cell_type": "code",
   "execution_count": 71,
   "metadata": {},
   "outputs": [],
   "source": [
    "pontass = lambda mesa: [ponta(braco) for braco in mesa[1:] if braco != []]"
   ]
  },
  {
   "cell_type": "code",
   "execution_count": 23,
   "metadata": {},
   "outputs": [],
   "source": [
    "pontas1 = lambda mesa: [(i, ponta(braco)) for i, braco in enumerate(mesa[1:]) if braco != []]"
   ]
  },
  {
   "cell_type": "code",
   "execution_count": 24,
   "metadata": {},
   "outputs": [
    {
     "data": {
      "text/plain": [
       "[(0, (5, 2)), (1, (1, 5)), (3, (4, 2))]"
      ]
     },
     "execution_count": 24,
     "metadata": {},
     "output_type": "execute_result"
    }
   ],
   "source": [
    "pontas1(mesa)"
   ]
  },
  {
   "cell_type": "code",
   "execution_count": 64,
   "metadata": {},
   "outputs": [],
   "source": [
    "bracosVaz = lambda mesa: len([i for i in mesa[1:] if i== []])"
   ]
  },
  {
   "cell_type": "code",
   "execution_count": null,
   "metadata": {},
   "outputs": [],
   "source": []
  },
  {
   "cell_type": "code",
   "execution_count": 77,
   "metadata": {},
   "outputs": [],
   "source": [
    "def pontas2(mesa):\n",
    "    if bracosVaz(mesa) < 2:\n",
    "        return pontass(mesa)\n",
    "    else:\n",
    "        return [centro(mesa)] + pontass(mesa)"
   ]
  },
  {
   "cell_type": "code",
   "execution_count": 79,
   "metadata": {},
   "outputs": [
    {
     "data": {
      "text/plain": [
       "[(5, 2), (1, 5), (4, 2)]"
      ]
     },
     "execution_count": 79,
     "metadata": {},
     "output_type": "execute_result"
    }
   ],
   "source": [
    "bracosVaz(mesa2)\n",
    "pontas2(mesa)"
   ]
  },
  {
   "cell_type": "markdown",
   "metadata": {},
   "source": [
    "#### Exercícios\n",
    "\n",
    "definas as funções;\n",
    "1. valor(pedra) = valor da pedra na ponta. Ex: valor(1,3) = 3.\n",
    "2. pontos(cfg) = total de pontos de uma configuração. Ex pontos(mesa) = 0, pontos(mesa) = 2, pontos(mesa) = 3. \n",
    "3. pontos_na_mao(pedras) = dada uma lista de pedras na mao de um jogador, da o numero de pontos na mao dele (maior multiplo de cinco que a soma dos valores das pedras). Neste caso, os pontos de cada pedra são sempre a soma dos valores. Ex: (1,3) = 4.\n",
    "4. configuracoes_apos_uma_jogada(pedra,cfg_atual) = todas as configurações possiveis após jgoar um pedra em cfg_atual.\n",
    "    * configuracoes_apos_uma_jogada((6,2), mesa) = \n",
    "        * [(6,6),[(6,5),(5,2),__(2,6)__,] ]\n",
    "        \n",
    "5. dada uma pedra e uma configuração, retorne a pedra que representa a maior pontuação para configuração de dada e como deve ser jogada(0 para o norte, 1 para leste, 2 para o sul, 3 para o oeste).\n"
   ]
  },
  {
   "cell_type": "code",
   "execution_count": 80,
   "metadata": {},
   "outputs": [],
   "source": [
    "valorp_ponta = lambda pedra: sum(pedra) if pedra[0]==pedra[1] else pedra[-1]"
   ]
  },
  {
   "cell_type": "code",
   "execution_count": 81,
   "metadata": {},
   "outputs": [],
   "source": [
    "def pontos(cfg):\n",
    "    pts = sum([valorp_ponta(p) for p in pontas2(cfg)])\n",
    "    "
   ]
  },
  {
   "cell_type": "code",
   "execution_count": null,
   "metadata": {},
   "outputs": [],
   "source": []
  }
 ],
 "metadata": {
  "kernelspec": {
   "display_name": "Python 3",
   "language": "python",
   "name": "python3"
  },
  "language_info": {
   "codemirror_mode": {
    "name": "ipython",
    "version": 3
   },
   "file_extension": ".py",
   "mimetype": "text/x-python",
   "name": "python",
   "nbconvert_exporter": "python",
   "pygments_lexer": "ipython3",
   "version": "3.5.2"
  }
 },
 "nbformat": 4,
 "nbformat_minor": 2
}
